{
 "cells": [
  {
   "cell_type": "code",
   "execution_count": 18,
   "metadata": {},
   "outputs": [],
   "source": [
    "from sklearn.datasets import load_iris\n",
    "from sklearn.tree import DecisionTreeClassifier\n",
    "from sklearn.model_selection import train_test_split\n",
    "from sklearn.metrics import accuracy_score, precision_score, recall_score #Confusion matrix 수업 때 진행할 예정 \n",
    "from sklearn.model_selection import KFold\n",
    "from sklearn.metrics import classification_report\n",
    "from sklearn.metrics import accuracy_score#임포트 \n",
    "import numpy as np\n",
    "import pandas as pd"
   ]
  },
  {
   "cell_type": "code",
   "execution_count": 19,
   "metadata": {},
   "outputs": [],
   "source": [
    "fold_iris = load_iris()\n",
    "features = fold_iris.data\n",
    "\n",
    "label= fold_iris.target"
   ]
  },
  {
   "cell_type": "markdown",
   "metadata": {},
   "source": [
    "## 1. Train/test/split\n",
    "\n",
    "- 기본 모델로 나눠서 실제 과적합이 어떤 식으로 발생하는지?"
   ]
  },
  {
   "cell_type": "code",
   "execution_count": 20,
   "metadata": {},
   "outputs": [],
   "source": [
    "X_train, X_test, y_train, y_test = train_test_split(features, label, test_size=0.2, random_state=111)"
   ]
  },
  {
   "cell_type": "code",
   "execution_count": 21,
   "metadata": {},
   "outputs": [],
   "source": [
    "model = DecisionTreeClassifier()\n",
    "model.fit(X_train, y_train) #모델 학습\n",
    "pred_train = model.predict(X_train) #train 예측\n",
    "pred_test = model.predict(X_test) # test예측\n",
    "\n",
    "\n",
    "model_sp1 = DecisionTreeClassifier(random_state=111, max_depth=3)\n",
    "model_sp1.fit(X_train, y_train) #모델 학습\n",
    "pred_train_sp = model_sp1.predict(X_train) #train 예측\n",
    "pred_test_sp = model_sp1.predict(X_test) # test예측"
   ]
  },
  {
   "cell_type": "code",
   "execution_count": 22,
   "metadata": {},
   "outputs": [
    {
     "name": "stdout",
     "output_type": "stream",
     "text": [
      "1.0\n",
      "0.9\n"
     ]
    }
   ],
   "source": [
    "print(accuracy_score(y_train, pred_train))\n",
    "print(accuracy_score(y_test, pred_test))"
   ]
  },
  {
   "cell_type": "code",
   "execution_count": 23,
   "metadata": {},
   "outputs": [
    {
     "name": "stdout",
     "output_type": "stream",
     "text": [
      "0.9916666666666667\n",
      "0.9\n"
     ]
    }
   ],
   "source": [
    "print(accuracy_score(y_train, pred_train_sp))\n",
    "print(accuracy_score(y_test, pred_test_sp))"
   ]
  },
  {
   "cell_type": "code",
   "execution_count": 30,
   "metadata": {},
   "outputs": [],
   "source": [
    "from sklearn.model_selection import KFold\n",
    "\n",
    "kfold= KFold(n_splits=5) \n",
    "\n",
    "cv_accuracy_train=[]\n",
    "cv_accuracy_test=[]\n",
    "kf_model = DecisionTreeClassifier(random_state=111, max_depth=3)"
   ]
  },
  {
   "cell_type": "code",
   "execution_count": 28,
   "metadata": {},
   "outputs": [
    {
     "data": {
      "text/plain": [
       "KFold(n_splits=4, random_state=None, shuffle=False)"
      ]
     },
     "execution_count": 28,
     "metadata": {},
     "output_type": "execute_result"
    }
   ],
   "source": [
    "kfold"
   ]
  },
  {
   "cell_type": "code",
   "execution_count": 31,
   "metadata": {},
   "outputs": [
    {
     "name": "stdout",
     "output_type": "stream",
     "text": [
      "\n",
      "1 번 train 교차 검증 정확도 :0.975 ,test 교차 검증 정확도 :1.0 \n",
      "\n",
      "2 번 train 교차 검증 정확도 :0.975 ,test 교차 검증 정확도 :0.9667 \n",
      "\n",
      "3 번 train 교차 검증 정확도 :0.9917 ,test 교차 검증 정확도 :0.8333 \n",
      "\n",
      "4 번 train 교차 검증 정확도 :0.9833 ,test 교차 검증 정확도 :0.9333 \n",
      "\n",
      "5 번 train 교차 검증 정확도 :0.975 ,test 교차 검증 정확도 :0.7 \n",
      "train 평균 정확도 0.9799999999999999\n",
      "test 평균 정확도 0.88666\n"
     ]
    }
   ],
   "source": [
    "n_iter = 0 #5번 진행하니 초깃값 설정\n",
    "\n",
    "for train_idx, test_idx in kfold.split(features):\n",
    "    X_train, X_test = features[train_idx], features[test_idx]\n",
    "    y_train, y_test = label[train_idx], label[test_idx]\n",
    "    \n",
    "    #학습을 위해서 dt배우기\n",
    "    kf_model.fit(X_train, y_train)\n",
    "    #예측\n",
    "    kf_pred_train = kf_model.predict(X_train)\n",
    "    df_pred_test = kf_model.predict(X_test)\n",
    "    \n",
    "    #정확도를 5번 측정하면서 값에 넣을 것이니\n",
    "    n_iter +=1\n",
    "    accuracy_train = np.round(accuracy_score(y_train, kf_pred_train),4)\n",
    "    accuracy_test = np.round(accuracy_score(y_test, df_pred_test),4)\n",
    "    \n",
    "    print('\\n{} 번 train 교차 검증 정확도 :{} ,test 교차 검증 정확도 :{} '.format(n_iter,accuracy_train, accuracy_test))\n",
    "    \n",
    "    cv_accuracy_train.append(accuracy_train)\n",
    "    cv_accuracy_test.append(accuracy_test)\n",
    "    \n",
    "print('train 평균 정확도',np.mean(cv_accuracy_train))\n",
    "print('test 평균 정확도',np.mean(cv_accuracy_test))"
   ]
  },
  {
   "cell_type": "code",
   "execution_count": 32,
   "metadata": {},
   "outputs": [],
   "source": [
    "from sklearn.model_selection import StratifiedKFold\n",
    "\n",
    "skf_iris = StratifiedKFold(n_splits=3)\n",
    "cnt_iter=0"
   ]
  },
  {
   "cell_type": "code",
   "execution_count": 33,
   "metadata": {},
   "outputs": [
    {
     "name": "stdout",
     "output_type": "stream",
     "text": [
      "\n",
      "1 번 train 교차 검증 정확도 :0.95 ,test 교차 검증 정확도 :0.98 \n",
      "\n",
      "2 번 train 교차 검증 정확도 :0.99 ,test 교차 검증 정확도 :0.94 \n",
      "\n",
      "3 번 train 교차 검증 정확도 :0.97 ,test 교차 검증 정확도 :0.96 \n",
      "train 평균 정확도 0.9700000000000001\n",
      "test 평균 정확도 0.96\n"
     ]
    }
   ],
   "source": [
    "n_iter=0\n",
    "\n",
    "skf_cv_accuracy_train = []\n",
    "skf_cv_accuracy_test = []\n",
    "skf_model = DecisionTreeClassifier(random_state=111, max_depth=3)\n",
    "\n",
    "for train_idx, test_idx in skf_iris.split(features, label):\n",
    "    X_train, X_test = features[train_idx], features[test_idx]\n",
    "    y_train, y_test = label[train_idx], label[test_idx]\n",
    "    \n",
    "    #학습을 위해서 dt배우기\n",
    "    skf_model.fit(X_train, y_train)\n",
    "    #예측\n",
    "    skf_pred_train = skf_model.predict(X_train)\n",
    "    skf_pred_test = skf_model.predict(X_test)\n",
    "    \n",
    "    #정확도를 5번 측정하면서 값에 넣을 것이니\n",
    "    n_iter +=1\n",
    "    accuracy_train = np.round(accuracy_score(y_train, skf_pred_train),4)\n",
    "    accuracy_test = np.round(accuracy_score(y_test, skf_pred_test),4)\n",
    "    \n",
    "    print('\\n{} 번 train 교차 검증 정확도 :{} ,test 교차 검증 정확도 :{} '.format(n_iter,accuracy_train, accuracy_test))\n",
    "    \n",
    "    skf_cv_accuracy_train.append(accuracy_train)\n",
    "    skf_cv_accuracy_test.append(accuracy_test)\n",
    "    \n",
    "print('train 평균 정확도',np.mean(skf_cv_accuracy_train))\n",
    "print('test 평균 정확도',np.mean(skf_cv_accuracy_test))"
   ]
  }
 ],
 "metadata": {
  "kernelspec": {
   "display_name": "tset",
   "language": "python",
   "name": "python3"
  },
  "language_info": {
   "codemirror_mode": {
    "name": "ipython",
    "version": 3
   },
   "file_extension": ".py",
   "mimetype": "text/x-python",
   "name": "python",
   "nbconvert_exporter": "python",
   "pygments_lexer": "ipython3",
   "version": "3.10.11"
  },
  "orig_nbformat": 4
 },
 "nbformat": 4,
 "nbformat_minor": 2
}
