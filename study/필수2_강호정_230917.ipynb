{
 "cells": [
  {
   "cell_type": "code",
   "execution_count": 11,
   "metadata": {},
   "outputs": [],
   "source": [
    "from sklearn.tree import DecisionTreeClassifier\n",
    "from sklearn.linear_model import LogisticRegression\n",
    "from sklearn.ensemble import RandomForestClassifier\n",
    "from sklearn.metrics import confusion_matrix\n",
    "from sklearn.model_selection import train_test_split\n",
    "from sklearn.metrics import precision_score, recall_score, f1_score, accuracy_score \n",
    "from sklearn.metrics import classification_report, precision_recall_fscore_support\n",
    "from sklearn.model_selection import KFold\n",
    "from sklearn.metrics import classification_report\n",
    "from sklearn.metrics import accuracy_score#임포트 \n",
    "from sklearn.model_selection import cross_val_score, cross_validate\n",
    "from sklearn.preprocessing import LabelEncoder\n",
    "import numpy as np\n",
    "import pandas as pd\n",
    "import matplotlib.pyplot as plt\n",
    "import seaborn as sns"
   ]
  },
  {
   "cell_type": "code",
   "execution_count": 2,
   "metadata": {},
   "outputs": [],
   "source": [
    "df= pd.read_csv('../lecture/salary_class.csv')"
   ]
  },
  {
   "cell_type": "code",
   "execution_count": 12,
   "metadata": {},
   "outputs": [],
   "source": [
    "categorical_columns = df.select_dtypes(exclude=['number'])\n",
    "features_col = categorical_columns.columns\n",
    "\n",
    "for feature in features_col:\n",
    "    encoder = LabelEncoder()\n",
    "    encoder.fit(df[feature])\n",
    "    df[feature] = encoder.transform(df[feature])"
   ]
  },
  {
   "cell_type": "code",
   "execution_count": 14,
   "metadata": {},
   "outputs": [],
   "source": [
    "features = df.drop(columns= 'class')\n",
    "label = df['class']\n",
    "\n",
    "model = DecisionTreeClassifier(random_state= 111)"
   ]
  },
  {
   "cell_type": "code",
   "execution_count": 13,
   "metadata": {},
   "outputs": [],
   "source": [
    "from sklearn.model_selection import StratifiedShuffleSplit\n",
    "sss = StratifiedShuffleSplit(n_splits= 5, test_size= 0.3, random_state= 1)"
   ]
  },
  {
   "cell_type": "code",
   "execution_count": 18,
   "metadata": {},
   "outputs": [
    {
     "name": "stdout",
     "output_type": "stream",
     "text": [
      "0.6122774654287341\n"
     ]
    }
   ],
   "source": [
    "scores = cross_val_score(model, features, label, scoring='f1', cv=sss)\n",
    "print(scores.mean())"
   ]
  },
  {
   "cell_type": "code",
   "execution_count": 24,
   "metadata": {},
   "outputs": [
    {
     "name": "stdout",
     "output_type": "stream",
     "text": [
      "******************사용한 알고리즘 DT ******************\n",
      "accuracy\n",
      "--\n",
      "0.8109329147614822\n",
      "precision\n",
      "--\n",
      "0.6022393632561467\n",
      "recall\n",
      "--\n",
      "0.6221334854535083\n",
      "f1\n",
      "--\n",
      "0.61005292549068\n"
     ]
    }
   ],
   "source": [
    "model = [DecisionTreeClassifier()] \n",
    "name = ['DT','RF']\n",
    "\n",
    "for model ,name in zip(model, name):\n",
    "    print('******************사용한 알고리즘',name,'******************')\n",
    "    for score in ['accuracy','precision','recall','f1']:\n",
    "        print(score)\n",
    "        print('--')\n",
    "        scores = cross_val_score(model, features, label, scoring=score,cv=sss)\n",
    "        print(scores.mean())"
   ]
  },
  {
   "cell_type": "code",
   "execution_count": 25,
   "metadata": {},
   "outputs": [
    {
     "name": "stdout",
     "output_type": "stream",
     "text": [
      "******************사용한 알고리즘 DT ******************\n",
      "accuracy\n",
      "--\n",
      "0.8160081883316274\n",
      "precision\n",
      "--\n",
      "0.6100596167465039\n",
      "recall\n",
      "--\n",
      "0.6300349248554287\n",
      "f1\n",
      "--\n",
      "0.6177365769496641\n"
     ]
    }
   ],
   "source": [
    "from sklearn.model_selection import ShuffleSplit\n",
    "ss = ShuffleSplit(n_splits= 5)\n",
    "model = [DecisionTreeClassifier()] \n",
    "name = ['DT','RF']\n",
    "\n",
    "for model ,name in zip(model, name):\n",
    "    print('******************사용한 알고리즘',name,'******************')\n",
    "    for score in ['accuracy','precision','recall','f1']:\n",
    "        print(score)\n",
    "        print('--')\n",
    "        scores = cross_val_score(model, features, label, scoring=score,cv=ss)\n",
    "        print(scores.mean())"
   ]
  }
 ],
 "metadata": {
  "kernelspec": {
   "display_name": "tset",
   "language": "python",
   "name": "python3"
  },
  "language_info": {
   "codemirror_mode": {
    "name": "ipython",
    "version": 3
   },
   "file_extension": ".py",
   "mimetype": "text/x-python",
   "name": "python",
   "nbconvert_exporter": "python",
   "pygments_lexer": "ipython3",
   "version": "3.10.11"
  },
  "orig_nbformat": 4
 },
 "nbformat": 4,
 "nbformat_minor": 2
}
