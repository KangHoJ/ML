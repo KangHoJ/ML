{
 "cells": [
  {
   "cell_type": "markdown",
   "metadata": {},
   "source": [
    "## cross_val_score 평가\n",
    "- cross_val_score\n",
    "(사용할 모델 , x값 , y값 , scroing(평가할 스코어링 방법),cv(몇번 검증할 것인가 ?),n_jobs(cpu사용자에 대한 지정-1), verbose(진행 사항 보기) )"
   ]
  },
  {
   "cell_type": "code",
   "execution_count": 1,
   "metadata": {},
   "outputs": [],
   "source": [
    "from sklearn.tree import DecisionTreeClassifier\n",
    "from sklearn.ensemble import RandomForestClassifier\n",
    "from sklearn.linear_model import LogisticRegression\n",
    "from sklearn.model_selection import cross_val_score, cross_validate\n",
    "from sklearn.datasets import load_iris\n",
    "import numpy as np\n",
    "import pandas as pd"
   ]
  },
  {
   "cell_type": "code",
   "execution_count": 2,
   "metadata": {},
   "outputs": [],
   "source": [
    "iris_data = load_iris()\n",
    "data =  iris_data.data\n",
    "label = iris_data.target"
   ]
  },
  {
   "cell_type": "code",
   "execution_count": 3,
   "metadata": {},
   "outputs": [],
   "source": [
    "dt_clf = DecisionTreeClassifier(random_state=111)"
   ]
  },
  {
   "cell_type": "code",
   "execution_count": 4,
   "metadata": {},
   "outputs": [
    {
     "name": "stdout",
     "output_type": "stream",
     "text": [
      "0.96\n"
     ]
    }
   ],
   "source": [
    "# 교차검증 진행\n",
    "scores = cross_val_score(dt_clf,data,label,scoring='accuracy',cv=5)\n",
    "print(np.round(np.mean(scores),3))"
   ]
  },
  {
   "cell_type": "code",
   "execution_count": 6,
   "metadata": {},
   "outputs": [
    {
     "data": {
      "text/html": [
       "<div>\n",
       "<style scoped>\n",
       "    .dataframe tbody tr th:only-of-type {\n",
       "        vertical-align: middle;\n",
       "    }\n",
       "\n",
       "    .dataframe tbody tr th {\n",
       "        vertical-align: top;\n",
       "    }\n",
       "\n",
       "    .dataframe thead th {\n",
       "        text-align: right;\n",
       "    }\n",
       "</style>\n",
       "<table border=\"1\" class=\"dataframe\">\n",
       "  <thead>\n",
       "    <tr style=\"text-align: right;\">\n",
       "      <th></th>\n",
       "      <th>fit_time</th>\n",
       "      <th>score_time</th>\n",
       "      <th>test_score</th>\n",
       "      <th>train_score</th>\n",
       "    </tr>\n",
       "  </thead>\n",
       "  <tbody>\n",
       "    <tr>\n",
       "      <th>0</th>\n",
       "      <td>0.000997</td>\n",
       "      <td>0.000999</td>\n",
       "      <td>0.966667</td>\n",
       "      <td>1.0</td>\n",
       "    </tr>\n",
       "    <tr>\n",
       "      <th>1</th>\n",
       "      <td>0.001982</td>\n",
       "      <td>0.001000</td>\n",
       "      <td>0.966667</td>\n",
       "      <td>1.0</td>\n",
       "    </tr>\n",
       "    <tr>\n",
       "      <th>2</th>\n",
       "      <td>0.002001</td>\n",
       "      <td>0.001001</td>\n",
       "      <td>0.900000</td>\n",
       "      <td>1.0</td>\n",
       "    </tr>\n",
       "    <tr>\n",
       "      <th>3</th>\n",
       "      <td>0.000999</td>\n",
       "      <td>0.001000</td>\n",
       "      <td>0.966667</td>\n",
       "      <td>1.0</td>\n",
       "    </tr>\n",
       "    <tr>\n",
       "      <th>4</th>\n",
       "      <td>0.002004</td>\n",
       "      <td>0.003033</td>\n",
       "      <td>1.000000</td>\n",
       "      <td>1.0</td>\n",
       "    </tr>\n",
       "  </tbody>\n",
       "</table>\n",
       "</div>"
      ],
      "text/plain": [
       "   fit_time  score_time  test_score  train_score\n",
       "0  0.000997    0.000999    0.966667          1.0\n",
       "1  0.001982    0.001000    0.966667          1.0\n",
       "2  0.002001    0.001001    0.900000          1.0\n",
       "3  0.000999    0.001000    0.966667          1.0\n",
       "4  0.002004    0.003033    1.000000          1.0"
      ]
     },
     "execution_count": 6,
     "metadata": {},
     "output_type": "execute_result"
    }
   ],
   "source": [
    "crs=cross_validate(dt_clf, data, label, scoring='accuracy',cv=5, return_train_score=True)\n",
    "pd.DataFrame(crs) #시간까지 확인 가능 "
   ]
  },
  {
   "cell_type": "code",
   "execution_count": 9,
   "metadata": {},
   "outputs": [],
   "source": [
    "import seaborn as sns\n",
    "df = sns.load_dataset('titanic')"
   ]
  },
  {
   "cell_type": "code",
   "execution_count": 10,
   "metadata": {},
   "outputs": [],
   "source": [
    "df_tt = df[['pclass','fare']] # x"
   ]
  },
  {
   "cell_type": "code",
   "execution_count": 11,
   "metadata": {},
   "outputs": [
    {
     "name": "stdout",
     "output_type": "stream",
     "text": [
      "0.535\n"
     ]
    }
   ],
   "source": [
    "scores = cross_val_score(dt_clf,df_tt,df['survived'],scoring='f1',cv=5)\n",
    "print(np.round(np.mean(scores),3)) # 이진분류면 잘 나온다"
   ]
  },
  {
   "cell_type": "markdown",
   "metadata": {},
   "source": [
    "## confusion matrix \n",
    "- 정확도 , 정밀도 , 재현율 , f1스코어 , auc , roc 커브\n",
    "- 이진분류는 정확도 , 정밀도 , 재현율 , f1스코어 , auc , roc 커브 분류에 디폴트로 문제없다\n",
    "- 다중분류로 했을때는 어떻게 해야할까 ?"
   ]
  },
  {
   "cell_type": "markdown",
   "metadata": {},
   "source": [
    "## 다중분류 진행시 평가지표에 대한 가중치 설정 방법\n",
    "- _micro , _macro , _weighted 이런식으로 사용하면 된다 .\n",
    "- macro\n",
    "-> 모든 예측 결과에 대해서 평균을 내어서 계산하는 방법 \n",
    "- micro\n",
    "-> 각각의 정답에 대한 개수를 가지고 나눠서 평균값을 구한다\n",
    "- weighted \n",
    "-> 가중 평균값을 구한다 , 가중치를 주고 싶은 것에 줄 수 있다 .\n"
   ]
  },
  {
   "cell_type": "markdown",
   "metadata": {},
   "source": [
    "#### 예시 \n",
    "- 4개라벨(0,1,2,3)클래스 있을떄 precision계산하면 \n",
    "- 0 -> 0.5 = 1/2 , 1 -> 0.1 = 10/100 , 2 -> 0.5 = 1/2 , 3 -> 0.5 = 1/2 이면\n",
    "- macro : (0.5+0.1+0.5+0.5) / 4 \n",
    "- micro : (1+10+1+1) / (2+100+2+2)  "
   ]
  },
  {
   "cell_type": "markdown",
   "metadata": {},
   "source": [
    "#### 그렇다면 언제 뭐를 선택 ? \n",
    "- 클래스에 대한 불균형에 따라서 선택해야 한다 (불균형일떄 micro)\n",
    "- 사기탐지 같은 예시를 보면 사기가 압도적으로 적으니 불균형 상황\n"
   ]
  },
  {
   "cell_type": "markdown",
   "metadata": {},
   "source": [
    "## leaveOneOut 교차검증\n",
    "- corss_val_score 부분 cv=loo 넣는 방법\n",
    "## Group 교차검증\n",
    "- 그룹핑은 그룹핑 데이터를 가지고 교차검증할떄 더 좋은 성능을 보여줌\n",
    "- 단순하게 교차검증을 cross 하는게 아니라 데이터가 어떤 클래스 별로 수치를 비교하는 것이라면 교차검증 자체도 그룹핑으로 접근 할 수 있는것"
   ]
  },
  {
   "cell_type": "code",
   "execution_count": 7,
   "metadata": {},
   "outputs": [],
   "source": [
    "from sklearn.model_selection import LeaveOneOut\n",
    "\n",
    "loo = LeaveOneOut()"
   ]
  },
  {
   "cell_type": "code",
   "execution_count": 13,
   "metadata": {},
   "outputs": [
    {
     "name": "stdout",
     "output_type": "stream",
     "text": [
      "891\n",
      "0.6745230078563412\n"
     ]
    }
   ],
   "source": [
    "scores_loo = cross_val_score(dt_clf,df_tt,df['survived'],scoring='accuracy',cv=loo)\n",
    "print(len(scores_loo))\n",
    "print(scores_loo.mean())"
   ]
  },
  {
   "cell_type": "code",
   "execution_count": 15,
   "metadata": {},
   "outputs": [
    {
     "name": "stdout",
     "output_type": "stream",
     "text": [
      "******************사용한 알고리즘 DT ************************\n",
      "accuracy\n",
      "--\n",
      "[0.67777778 0.61797753 0.64044944 0.66292135 0.6741573  0.71910112\n",
      " 0.60674157 0.78651685 0.71910112 0.75280899]\n",
      "precision\n",
      "--\n",
      "[0.63636364 0.5        0.54545455 0.59090909 0.6        0.63636364\n",
      " 0.5        0.74193548 0.65517241 0.76      ]\n",
      "recall\n",
      "--\n",
      "[0.4        0.35294118 0.35294118 0.38235294 0.44117647 0.61764706\n",
      " 0.32352941 0.67647059 0.55882353 0.54285714]\n",
      "f1\n",
      "--\n",
      "[0.49122807 0.4137931  0.42857143 0.46428571 0.50847458 0.62686567\n",
      " 0.39285714 0.70769231 0.6031746  0.63333333]\n",
      "******************사용한 알고리즘 RF ************************\n",
      "accuracy\n",
      "--\n",
      "[0.68888889 0.58426966 0.68539326 0.68539326 0.69662921 0.68539326\n",
      " 0.66292135 0.76404494 0.73033708 0.76404494]\n",
      "precision\n",
      "--\n",
      "[0.69230769 0.48       0.6        0.6        0.61538462 0.61111111\n",
      " 0.56       0.70588235 0.66666667 0.7       ]\n",
      "recall\n",
      "--\n",
      "[0.45714286 0.35294118 0.44117647 0.5        0.5        0.67647059\n",
      " 0.41176471 0.67647059 0.58823529 0.57142857]\n",
      "f1\n",
      "--\n",
      "[0.56666667 0.40677966 0.50847458 0.5483871  0.55737705 0.63768116\n",
      " 0.48275862 0.67647059 0.64615385 0.67741935]\n",
      "******************사용한 알고리즘 LR ************************\n",
      "accuracy\n",
      "--\n",
      "[0.58888889 0.61797753 0.68539326 0.66292135 0.69662921 0.65168539\n",
      " 0.70786517 0.73033708 0.70786517 0.74157303]\n",
      "precision\n",
      "--\n",
      "[0.44444444 0.5        0.66666667 0.56666667 0.70588235 0.55555556\n",
      " 0.66666667 0.72727273 0.66666667 0.8       ]\n",
      "recall\n",
      "--\n",
      "[0.22857143 0.23529412 0.35294118 0.5        0.35294118 0.44117647\n",
      " 0.47058824 0.47058824 0.47058824 0.45714286]\n",
      "f1\n",
      "--\n",
      "[0.30188679 0.32       0.46153846 0.53125    0.47058824 0.49180328\n",
      " 0.55172414 0.57142857 0.55172414 0.58181818]\n"
     ]
    }
   ],
   "source": [
    "## cross val 응용하기 \n",
    "model = [DecisionTreeClassifier(),RandomForestClassifier(),LogisticRegression()] \n",
    "name = ['DT','RF','LR']\n",
    "\n",
    "for model ,name in zip(model, name):\n",
    "    print('******************사용한 알고리즘',name,'************************')\n",
    "    for score in ['accuracy','precision','recall','f1']:\n",
    "        print(score)\n",
    "        print('--')\n",
    "        print(cross_val_score(model, df_tt, df['survived'], scoring=score,cv=10))"
   ]
  },
  {
   "cell_type": "markdown",
   "metadata": {},
   "source": [
    "### 분류 평가지표\n",
    "- 정확도 : 맞춘수(TP+FN) / 전체 데이터 건수"
   ]
  },
  {
   "cell_type": "markdown",
   "metadata": {},
   "source": [
    "## 필수과제 1 \n",
    "- weighted 구글링해서 내용 설명과 이것에 대한 코드\n",
    "- 라벨의 개수에 비례하게 가중치를 줘서 평균 값\n",
    "- 예를들면 위에 예제에서 (0.5)*(0.2) + (0.1)*(0.2) + (0.5)*(0.3) + (0.5)*(0.3) "
   ]
  },
  {
   "cell_type": "markdown",
   "metadata": {},
   "source": [
    "## 필수과제2 \n",
    "- leaveOneOut말고 다른 교차검증 패키지 사용해보기 \n",
    "- 개념설명과 실제 적용해서 나온 결과 값을 비교하기 \n",
    "- e.g ) 타이타닉 데이터로 한다면 기존에 교차검증과 새롭게 진행한 교차검증의 차이"
   ]
  }
 ],
 "metadata": {
  "kernelspec": {
   "display_name": "tset",
   "language": "python",
   "name": "python3"
  },
  "language_info": {
   "codemirror_mode": {
    "name": "ipython",
    "version": 3
   },
   "file_extension": ".py",
   "mimetype": "text/x-python",
   "name": "python",
   "nbconvert_exporter": "python",
   "pygments_lexer": "ipython3",
   "version": "3.10.11"
  },
  "orig_nbformat": 4
 },
 "nbformat": 4,
 "nbformat_minor": 2
}
